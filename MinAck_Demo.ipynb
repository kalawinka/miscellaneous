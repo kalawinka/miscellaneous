{
  "nbformat": 4,
  "nbformat_minor": 0,
  "metadata": {
    "colab": {
      "provenance": [],
      "include_colab_link": true
    },
    "kernelspec": {
      "name": "python3",
      "display_name": "Python 3"
    },
    "language_info": {
      "name": "python"
    },
    "widgets": {
      "application/vnd.jupyter.widget-state+json": {
        "5f3051266ce941669aa2eff968f7a69c": {
          "model_module": "@jupyter-widgets/controls",
          "model_name": "HBoxModel",
          "model_module_version": "1.5.0",
          "state": {
            "_dom_classes": [],
            "_model_module": "@jupyter-widgets/controls",
            "_model_module_version": "1.5.0",
            "_model_name": "HBoxModel",
            "_view_count": null,
            "_view_module": "@jupyter-widgets/controls",
            "_view_module_version": "1.5.0",
            "_view_name": "HBoxView",
            "box_style": "",
            "children": [
              "IPY_MODEL_a4f9ea1cd9f44f1e80712a937b9af4c9",
              "IPY_MODEL_0d141e8a3c764761bd9ee065a73f4756",
              "IPY_MODEL_2d10b8a4e821423a82bcfa3d656c6e3f"
            ],
            "layout": "IPY_MODEL_3245198a2ac0453d8e06799d8aaecccb"
          }
        },
        "a4f9ea1cd9f44f1e80712a937b9af4c9": {
          "model_module": "@jupyter-widgets/controls",
          "model_name": "HTMLModel",
          "model_module_version": "1.5.0",
          "state": {
            "_dom_classes": [],
            "_model_module": "@jupyter-widgets/controls",
            "_model_module_version": "1.5.0",
            "_model_name": "HTMLModel",
            "_view_count": null,
            "_view_module": "@jupyter-widgets/controls",
            "_view_module_version": "1.5.0",
            "_view_name": "HTMLView",
            "description": "",
            "description_tooltip": null,
            "layout": "IPY_MODEL_c60e223c4fde46e1ae538095e3c3c33f",
            "placeholder": "​",
            "style": "IPY_MODEL_46d8e9905d6240908a4550eb466520a8",
            "value": "Downloading pytorch_model.bin: 100%"
          }
        },
        "0d141e8a3c764761bd9ee065a73f4756": {
          "model_module": "@jupyter-widgets/controls",
          "model_name": "FloatProgressModel",
          "model_module_version": "1.5.0",
          "state": {
            "_dom_classes": [],
            "_model_module": "@jupyter-widgets/controls",
            "_model_module_version": "1.5.0",
            "_model_name": "FloatProgressModel",
            "_view_count": null,
            "_view_module": "@jupyter-widgets/controls",
            "_view_module_version": "1.5.0",
            "_view_name": "ProgressView",
            "bar_style": "success",
            "description": "",
            "description_tooltip": null,
            "layout": "IPY_MODEL_82cb860535874f56bed3efd7a69af184",
            "max": 419120632,
            "min": 0,
            "orientation": "horizontal",
            "style": "IPY_MODEL_c50ce4b514c14f72bdab0cf87de1b21d",
            "value": 419120632
          }
        },
        "2d10b8a4e821423a82bcfa3d656c6e3f": {
          "model_module": "@jupyter-widgets/controls",
          "model_name": "HTMLModel",
          "model_module_version": "1.5.0",
          "state": {
            "_dom_classes": [],
            "_model_module": "@jupyter-widgets/controls",
            "_model_module_version": "1.5.0",
            "_model_name": "HTMLModel",
            "_view_count": null,
            "_view_module": "@jupyter-widgets/controls",
            "_view_module_version": "1.5.0",
            "_view_name": "HTMLView",
            "description": "",
            "description_tooltip": null,
            "layout": "IPY_MODEL_12d1454b79b7457aa0ac738ac00f7e3a",
            "placeholder": "​",
            "style": "IPY_MODEL_841948e17dd541c691a53fc2031e2d44",
            "value": " 419M/419M [00:06&lt;00:00, 54.2MB/s]"
          }
        },
        "3245198a2ac0453d8e06799d8aaecccb": {
          "model_module": "@jupyter-widgets/base",
          "model_name": "LayoutModel",
          "model_module_version": "1.2.0",
          "state": {
            "_model_module": "@jupyter-widgets/base",
            "_model_module_version": "1.2.0",
            "_model_name": "LayoutModel",
            "_view_count": null,
            "_view_module": "@jupyter-widgets/base",
            "_view_module_version": "1.2.0",
            "_view_name": "LayoutView",
            "align_content": null,
            "align_items": null,
            "align_self": null,
            "border": null,
            "bottom": null,
            "display": null,
            "flex": null,
            "flex_flow": null,
            "grid_area": null,
            "grid_auto_columns": null,
            "grid_auto_flow": null,
            "grid_auto_rows": null,
            "grid_column": null,
            "grid_gap": null,
            "grid_row": null,
            "grid_template_areas": null,
            "grid_template_columns": null,
            "grid_template_rows": null,
            "height": null,
            "justify_content": null,
            "justify_items": null,
            "left": null,
            "margin": null,
            "max_height": null,
            "max_width": null,
            "min_height": null,
            "min_width": null,
            "object_fit": null,
            "object_position": null,
            "order": null,
            "overflow": null,
            "overflow_x": null,
            "overflow_y": null,
            "padding": null,
            "right": null,
            "top": null,
            "visibility": null,
            "width": null
          }
        },
        "c60e223c4fde46e1ae538095e3c3c33f": {
          "model_module": "@jupyter-widgets/base",
          "model_name": "LayoutModel",
          "model_module_version": "1.2.0",
          "state": {
            "_model_module": "@jupyter-widgets/base",
            "_model_module_version": "1.2.0",
            "_model_name": "LayoutModel",
            "_view_count": null,
            "_view_module": "@jupyter-widgets/base",
            "_view_module_version": "1.2.0",
            "_view_name": "LayoutView",
            "align_content": null,
            "align_items": null,
            "align_self": null,
            "border": null,
            "bottom": null,
            "display": null,
            "flex": null,
            "flex_flow": null,
            "grid_area": null,
            "grid_auto_columns": null,
            "grid_auto_flow": null,
            "grid_auto_rows": null,
            "grid_column": null,
            "grid_gap": null,
            "grid_row": null,
            "grid_template_areas": null,
            "grid_template_columns": null,
            "grid_template_rows": null,
            "height": null,
            "justify_content": null,
            "justify_items": null,
            "left": null,
            "margin": null,
            "max_height": null,
            "max_width": null,
            "min_height": null,
            "min_width": null,
            "object_fit": null,
            "object_position": null,
            "order": null,
            "overflow": null,
            "overflow_x": null,
            "overflow_y": null,
            "padding": null,
            "right": null,
            "top": null,
            "visibility": null,
            "width": null
          }
        },
        "46d8e9905d6240908a4550eb466520a8": {
          "model_module": "@jupyter-widgets/controls",
          "model_name": "DescriptionStyleModel",
          "model_module_version": "1.5.0",
          "state": {
            "_model_module": "@jupyter-widgets/controls",
            "_model_module_version": "1.5.0",
            "_model_name": "DescriptionStyleModel",
            "_view_count": null,
            "_view_module": "@jupyter-widgets/base",
            "_view_module_version": "1.2.0",
            "_view_name": "StyleView",
            "description_width": ""
          }
        },
        "82cb860535874f56bed3efd7a69af184": {
          "model_module": "@jupyter-widgets/base",
          "model_name": "LayoutModel",
          "model_module_version": "1.2.0",
          "state": {
            "_model_module": "@jupyter-widgets/base",
            "_model_module_version": "1.2.0",
            "_model_name": "LayoutModel",
            "_view_count": null,
            "_view_module": "@jupyter-widgets/base",
            "_view_module_version": "1.2.0",
            "_view_name": "LayoutView",
            "align_content": null,
            "align_items": null,
            "align_self": null,
            "border": null,
            "bottom": null,
            "display": null,
            "flex": null,
            "flex_flow": null,
            "grid_area": null,
            "grid_auto_columns": null,
            "grid_auto_flow": null,
            "grid_auto_rows": null,
            "grid_column": null,
            "grid_gap": null,
            "grid_row": null,
            "grid_template_areas": null,
            "grid_template_columns": null,
            "grid_template_rows": null,
            "height": null,
            "justify_content": null,
            "justify_items": null,
            "left": null,
            "margin": null,
            "max_height": null,
            "max_width": null,
            "min_height": null,
            "min_width": null,
            "object_fit": null,
            "object_position": null,
            "order": null,
            "overflow": null,
            "overflow_x": null,
            "overflow_y": null,
            "padding": null,
            "right": null,
            "top": null,
            "visibility": null,
            "width": null
          }
        },
        "c50ce4b514c14f72bdab0cf87de1b21d": {
          "model_module": "@jupyter-widgets/controls",
          "model_name": "ProgressStyleModel",
          "model_module_version": "1.5.0",
          "state": {
            "_model_module": "@jupyter-widgets/controls",
            "_model_module_version": "1.5.0",
            "_model_name": "ProgressStyleModel",
            "_view_count": null,
            "_view_module": "@jupyter-widgets/base",
            "_view_module_version": "1.2.0",
            "_view_name": "StyleView",
            "bar_color": null,
            "description_width": ""
          }
        },
        "12d1454b79b7457aa0ac738ac00f7e3a": {
          "model_module": "@jupyter-widgets/base",
          "model_name": "LayoutModel",
          "model_module_version": "1.2.0",
          "state": {
            "_model_module": "@jupyter-widgets/base",
            "_model_module_version": "1.2.0",
            "_model_name": "LayoutModel",
            "_view_count": null,
            "_view_module": "@jupyter-widgets/base",
            "_view_module_version": "1.2.0",
            "_view_name": "LayoutView",
            "align_content": null,
            "align_items": null,
            "align_self": null,
            "border": null,
            "bottom": null,
            "display": null,
            "flex": null,
            "flex_flow": null,
            "grid_area": null,
            "grid_auto_columns": null,
            "grid_auto_flow": null,
            "grid_auto_rows": null,
            "grid_column": null,
            "grid_gap": null,
            "grid_row": null,
            "grid_template_areas": null,
            "grid_template_columns": null,
            "grid_template_rows": null,
            "height": null,
            "justify_content": null,
            "justify_items": null,
            "left": null,
            "margin": null,
            "max_height": null,
            "max_width": null,
            "min_height": null,
            "min_width": null,
            "object_fit": null,
            "object_position": null,
            "order": null,
            "overflow": null,
            "overflow_x": null,
            "overflow_y": null,
            "padding": null,
            "right": null,
            "top": null,
            "visibility": null,
            "width": null
          }
        },
        "841948e17dd541c691a53fc2031e2d44": {
          "model_module": "@jupyter-widgets/controls",
          "model_name": "DescriptionStyleModel",
          "model_module_version": "1.5.0",
          "state": {
            "_model_module": "@jupyter-widgets/controls",
            "_model_module_version": "1.5.0",
            "_model_name": "DescriptionStyleModel",
            "_view_count": null,
            "_view_module": "@jupyter-widgets/base",
            "_view_module_version": "1.2.0",
            "_view_name": "StyleView",
            "description_width": ""
          }
        }
      }
    }
  },
  "cells": [
    {
      "cell_type": "markdown",
      "metadata": {
        "id": "view-in-github",
        "colab_type": "text"
      },
      "source": [
        "<a href=\"https://colab.research.google.com/github/kalawinka/miscellaneous/blob/main/MinAck_Demo.ipynb\" target=\"_parent\"><img src=\"https://colab.research.google.com/assets/colab-badge.svg\" alt=\"Open In Colab\"/></a>"
      ]
    },
    {
      "cell_type": "markdown",
      "source": [
        "# **Try NER model for acknowledgement texts in scientific articles built with FLAIR NLP-framework**\n",
        "## Our NER model is able to recognized 6 types of acknoweledged entities <br>\n",
        "**FUND**   Funding organization <br>\n",
        "**GRNB**   Grant number<br>\n",
        "**IND**   Person <br>\n",
        "**COR**   Corporation <br>\n",
        "**UNI**   University <br>\n",
        "**MISC**   Miscellaneous"
      ],
      "metadata": {
        "id": "lNEFxEu2FfQf"
      }
    },
    {
      "cell_type": "code",
      "source": [
        "#install libraries\n",
        "!pip3 install flair\n",
        "!pip3 install wget"
      ],
      "metadata": {
        "id": "8zMd6R38Ec1X",
        "colab": {
          "base_uri": "https://localhost:8080/"
        },
        "outputId": "8c11e48c-9d7e-4633-d693-4c114cd65719"
      },
      "execution_count": 1,
      "outputs": [
        {
          "output_type": "stream",
          "name": "stdout",
          "text": [
            "Collecting flair\n",
            "  Downloading flair-0.12.2-py3-none-any.whl (373 kB)\n",
            "\u001b[2K     \u001b[90m━━━━━━━━━━━━━━━━━━━━━━━━━━━━━━━━━━━━━━━\u001b[0m \u001b[32m373.1/373.1 kB\u001b[0m \u001b[31m3.7 MB/s\u001b[0m eta \u001b[36m0:00:00\u001b[0m\n",
            "\u001b[?25hRequirement already satisfied: python-dateutil>=2.6.1 in /usr/local/lib/python3.10/dist-packages (from flair) (2.8.2)\n",
            "Requirement already satisfied: torch!=1.8,>=1.5.0 in /usr/local/lib/python3.10/dist-packages (from flair) (2.0.1+cu118)\n",
            "Requirement already satisfied: gensim>=3.8.0 in /usr/local/lib/python3.10/dist-packages (from flair) (4.3.1)\n",
            "Requirement already satisfied: tqdm>=4.26.0 in /usr/local/lib/python3.10/dist-packages (from flair) (4.65.0)\n",
            "Collecting segtok>=1.5.7 (from flair)\n",
            "  Downloading segtok-1.5.11-py3-none-any.whl (24 kB)\n",
            "Requirement already satisfied: matplotlib>=2.2.3 in /usr/local/lib/python3.10/dist-packages (from flair) (3.7.1)\n",
            "Collecting mpld3==0.3 (from flair)\n",
            "  Downloading mpld3-0.3.tar.gz (788 kB)\n",
            "\u001b[2K     \u001b[90m━━━━━━━━━━━━━━━━━━━━━━━━━━━━━━━━━━━━━━━\u001b[0m \u001b[32m788.5/788.5 kB\u001b[0m \u001b[31m7.7 MB/s\u001b[0m eta \u001b[36m0:00:00\u001b[0m\n",
            "\u001b[?25h  Preparing metadata (setup.py) ... \u001b[?25l\u001b[?25hdone\n",
            "Requirement already satisfied: scikit-learn>=0.21.3 in /usr/local/lib/python3.10/dist-packages (from flair) (1.2.2)\n",
            "Collecting sqlitedict>=1.6.0 (from flair)\n",
            "  Downloading sqlitedict-2.1.0.tar.gz (21 kB)\n",
            "  Preparing metadata (setup.py) ... \u001b[?25l\u001b[?25hdone\n",
            "Collecting deprecated>=1.2.4 (from flair)\n",
            "  Downloading Deprecated-1.2.14-py2.py3-none-any.whl (9.6 kB)\n",
            "Requirement already satisfied: hyperopt>=0.2.7 in /usr/local/lib/python3.10/dist-packages (from flair) (0.2.7)\n",
            "Collecting boto3 (from flair)\n",
            "  Downloading boto3-1.28.21-py3-none-any.whl (135 kB)\n",
            "\u001b[2K     \u001b[90m━━━━━━━━━━━━━━━━━━━━━━━━━━━━━━━━━━━━━━━\u001b[0m \u001b[32m135.8/135.8 kB\u001b[0m \u001b[31m3.5 MB/s\u001b[0m eta \u001b[36m0:00:00\u001b[0m\n",
            "\u001b[?25hCollecting transformers[sentencepiece]>=4.18.0 (from flair)\n",
            "  Downloading transformers-4.31.0-py3-none-any.whl (7.4 MB)\n",
            "\u001b[2K     \u001b[90m━━━━━━━━━━━━━━━━━━━━━━━━━━━━━━━━━━━━━━━━\u001b[0m \u001b[32m7.4/7.4 MB\u001b[0m \u001b[31m18.5 MB/s\u001b[0m eta \u001b[36m0:00:00\u001b[0m\n",
            "\u001b[?25hCollecting bpemb>=0.3.2 (from flair)\n",
            "  Downloading bpemb-0.3.4-py3-none-any.whl (19 kB)\n",
            "Requirement already satisfied: regex in /usr/local/lib/python3.10/dist-packages (from flair) (2022.10.31)\n",
            "Requirement already satisfied: tabulate in /usr/local/lib/python3.10/dist-packages (from flair) (0.9.0)\n",
            "Collecting langdetect (from flair)\n",
            "  Downloading langdetect-1.0.9.tar.gz (981 kB)\n",
            "\u001b[2K     \u001b[90m━━━━━━━━━━━━━━━━━━━━━━━━━━━━━━━━━━━━━━\u001b[0m \u001b[32m981.5/981.5 kB\u001b[0m \u001b[31m20.2 MB/s\u001b[0m eta \u001b[36m0:00:00\u001b[0m\n",
            "\u001b[?25h  Preparing metadata (setup.py) ... \u001b[?25l\u001b[?25hdone\n",
            "Requirement already satisfied: lxml in /usr/local/lib/python3.10/dist-packages (from flair) (4.9.3)\n",
            "Collecting ftfy (from flair)\n",
            "  Downloading ftfy-6.1.1-py3-none-any.whl (53 kB)\n",
            "\u001b[2K     \u001b[90m━━━━━━━━━━━━━━━━━━━━━━━━━━━━━━━━━━━━━━━\u001b[0m \u001b[32m53.1/53.1 kB\u001b[0m \u001b[31m729.1 kB/s\u001b[0m eta \u001b[36m0:00:00\u001b[0m\n",
            "\u001b[?25hCollecting janome (from flair)\n",
            "  Downloading Janome-0.5.0-py2.py3-none-any.whl (19.7 MB)\n",
            "\u001b[2K     \u001b[90m━━━━━━━━━━━━━━━━━━━━━━━━━━━━━━━━━━━━━━━━\u001b[0m \u001b[32m19.7/19.7 MB\u001b[0m \u001b[31m38.8 MB/s\u001b[0m eta \u001b[36m0:00:00\u001b[0m\n",
            "\u001b[?25hCollecting gdown==4.4.0 (from flair)\n",
            "  Downloading gdown-4.4.0.tar.gz (14 kB)\n",
            "  Installing build dependencies ... \u001b[?25l\u001b[?25hdone\n",
            "  Getting requirements to build wheel ... \u001b[?25l\u001b[?25hdone\n",
            "  Preparing metadata (pyproject.toml) ... \u001b[?25l\u001b[?25hdone\n",
            "Collecting huggingface-hub>=0.10.0 (from flair)\n",
            "  Downloading huggingface_hub-0.16.4-py3-none-any.whl (268 kB)\n",
            "\u001b[2K     \u001b[90m━━━━━━━━━━━━━━━━━━━━━━━━━━━━━━━━━━━━━━\u001b[0m \u001b[32m268.8/268.8 kB\u001b[0m \u001b[31m22.6 MB/s\u001b[0m eta \u001b[36m0:00:00\u001b[0m\n",
            "\u001b[?25hCollecting conllu>=4.0 (from flair)\n",
            "  Downloading conllu-4.5.3-py2.py3-none-any.whl (16 kB)\n",
            "Requirement already satisfied: more-itertools in /usr/local/lib/python3.10/dist-packages (from flair) (9.1.0)\n",
            "Collecting wikipedia-api (from flair)\n",
            "  Downloading Wikipedia_API-0.6.0-py3-none-any.whl (14 kB)\n",
            "Collecting pptree (from flair)\n",
            "  Downloading pptree-3.1.tar.gz (3.0 kB)\n",
            "  Preparing metadata (setup.py) ... \u001b[?25l\u001b[?25hdone\n",
            "Collecting pytorch-revgrad (from flair)\n",
            "  Downloading pytorch_revgrad-0.2.0-py3-none-any.whl (4.6 kB)\n",
            "Collecting transformer-smaller-training-vocab>=0.2.1 (from flair)\n",
            "  Downloading transformer_smaller_training_vocab-0.2.4-py3-none-any.whl (13 kB)\n",
            "Requirement already satisfied: filelock in /usr/local/lib/python3.10/dist-packages (from gdown==4.4.0->flair) (3.12.2)\n",
            "Requirement already satisfied: requests[socks] in /usr/local/lib/python3.10/dist-packages (from gdown==4.4.0->flair) (2.27.1)\n",
            "Requirement already satisfied: six in /usr/local/lib/python3.10/dist-packages (from gdown==4.4.0->flair) (1.16.0)\n",
            "Requirement already satisfied: beautifulsoup4 in /usr/local/lib/python3.10/dist-packages (from gdown==4.4.0->flair) (4.11.2)\n",
            "Requirement already satisfied: numpy in /usr/local/lib/python3.10/dist-packages (from bpemb>=0.3.2->flair) (1.22.4)\n",
            "Collecting sentencepiece (from bpemb>=0.3.2->flair)\n",
            "  Downloading sentencepiece-0.1.99-cp310-cp310-manylinux_2_17_x86_64.manylinux2014_x86_64.whl (1.3 MB)\n",
            "\u001b[2K     \u001b[90m━━━━━━━━━━━━━━━━━━━━━━━━━━━━━━━━━━━━━━━━\u001b[0m \u001b[32m1.3/1.3 MB\u001b[0m \u001b[31m68.9 MB/s\u001b[0m eta \u001b[36m0:00:00\u001b[0m\n",
            "\u001b[?25hRequirement already satisfied: wrapt<2,>=1.10 in /usr/local/lib/python3.10/dist-packages (from deprecated>=1.2.4->flair) (1.14.1)\n",
            "Requirement already satisfied: scipy>=1.7.0 in /usr/local/lib/python3.10/dist-packages (from gensim>=3.8.0->flair) (1.10.1)\n",
            "Requirement already satisfied: smart-open>=1.8.1 in /usr/local/lib/python3.10/dist-packages (from gensim>=3.8.0->flair) (6.3.0)\n",
            "Requirement already satisfied: fsspec in /usr/local/lib/python3.10/dist-packages (from huggingface-hub>=0.10.0->flair) (2023.6.0)\n",
            "Requirement already satisfied: pyyaml>=5.1 in /usr/local/lib/python3.10/dist-packages (from huggingface-hub>=0.10.0->flair) (6.0.1)\n",
            "Requirement already satisfied: typing-extensions>=3.7.4.3 in /usr/local/lib/python3.10/dist-packages (from huggingface-hub>=0.10.0->flair) (4.7.1)\n",
            "Requirement already satisfied: packaging>=20.9 in /usr/local/lib/python3.10/dist-packages (from huggingface-hub>=0.10.0->flair) (23.1)\n",
            "Requirement already satisfied: networkx>=2.2 in /usr/local/lib/python3.10/dist-packages (from hyperopt>=0.2.7->flair) (3.1)\n",
            "Requirement already satisfied: future in /usr/local/lib/python3.10/dist-packages (from hyperopt>=0.2.7->flair) (0.18.3)\n",
            "Requirement already satisfied: cloudpickle in /usr/local/lib/python3.10/dist-packages (from hyperopt>=0.2.7->flair) (2.2.1)\n",
            "Requirement already satisfied: py4j in /usr/local/lib/python3.10/dist-packages (from hyperopt>=0.2.7->flair) (0.10.9.7)\n",
            "Requirement already satisfied: contourpy>=1.0.1 in /usr/local/lib/python3.10/dist-packages (from matplotlib>=2.2.3->flair) (1.1.0)\n",
            "Requirement already satisfied: cycler>=0.10 in /usr/local/lib/python3.10/dist-packages (from matplotlib>=2.2.3->flair) (0.11.0)\n",
            "Requirement already satisfied: fonttools>=4.22.0 in /usr/local/lib/python3.10/dist-packages (from matplotlib>=2.2.3->flair) (4.41.1)\n",
            "Requirement already satisfied: kiwisolver>=1.0.1 in /usr/local/lib/python3.10/dist-packages (from matplotlib>=2.2.3->flair) (1.4.4)\n",
            "Requirement already satisfied: pillow>=6.2.0 in /usr/local/lib/python3.10/dist-packages (from matplotlib>=2.2.3->flair) (9.4.0)\n",
            "Requirement already satisfied: pyparsing>=2.3.1 in /usr/local/lib/python3.10/dist-packages (from matplotlib>=2.2.3->flair) (3.1.0)\n",
            "Requirement already satisfied: joblib>=1.1.1 in /usr/local/lib/python3.10/dist-packages (from scikit-learn>=0.21.3->flair) (1.3.1)\n",
            "Requirement already satisfied: threadpoolctl>=2.0.0 in /usr/local/lib/python3.10/dist-packages (from scikit-learn>=0.21.3->flair) (3.2.0)\n",
            "Requirement already satisfied: sympy in /usr/local/lib/python3.10/dist-packages (from torch!=1.8,>=1.5.0->flair) (1.11.1)\n",
            "Requirement already satisfied: jinja2 in /usr/local/lib/python3.10/dist-packages (from torch!=1.8,>=1.5.0->flair) (3.1.2)\n",
            "Requirement already satisfied: triton==2.0.0 in /usr/local/lib/python3.10/dist-packages (from torch!=1.8,>=1.5.0->flair) (2.0.0)\n",
            "Requirement already satisfied: cmake in /usr/local/lib/python3.10/dist-packages (from triton==2.0.0->torch!=1.8,>=1.5.0->flair) (3.25.2)\n",
            "Requirement already satisfied: lit in /usr/local/lib/python3.10/dist-packages (from triton==2.0.0->torch!=1.8,>=1.5.0->flair) (16.0.6)\n",
            "Collecting datasets<3.0.0,>=2.0.0 (from transformer-smaller-training-vocab>=0.2.1->flair)\n",
            "  Downloading datasets-2.14.3-py3-none-any.whl (519 kB)\n",
            "\u001b[2K     \u001b[90m━━━━━━━━━━━━━━━━━━━━━━━━━━━━━━━━━━━━━━\u001b[0m \u001b[32m519.1/519.1 kB\u001b[0m \u001b[31m41.9 MB/s\u001b[0m eta \u001b[36m0:00:00\u001b[0m\n",
            "\u001b[?25hCollecting tokenizers!=0.11.3,<0.14,>=0.11.1 (from transformers[sentencepiece]>=4.18.0->flair)\n",
            "  Downloading tokenizers-0.13.3-cp310-cp310-manylinux_2_17_x86_64.manylinux2014_x86_64.whl (7.8 MB)\n",
            "\u001b[2K     \u001b[90m━━━━━━━━━━━━━━━━━━━━━━━━━━━━━━━━━━━━━━━━\u001b[0m \u001b[32m7.8/7.8 MB\u001b[0m \u001b[31m59.9 MB/s\u001b[0m eta \u001b[36m0:00:00\u001b[0m\n",
            "\u001b[?25hCollecting safetensors>=0.3.1 (from transformers[sentencepiece]>=4.18.0->flair)\n",
            "  Downloading safetensors-0.3.2-cp310-cp310-manylinux_2_17_x86_64.manylinux2014_x86_64.whl (1.3 MB)\n",
            "\u001b[2K     \u001b[90m━━━━━━━━━━━━━━━━━━━━━━━━━━━━━━━━━━━━━━━━\u001b[0m \u001b[32m1.3/1.3 MB\u001b[0m \u001b[31m78.7 MB/s\u001b[0m eta \u001b[36m0:00:00\u001b[0m\n",
            "\u001b[?25hRequirement already satisfied: protobuf in /usr/local/lib/python3.10/dist-packages (from transformers[sentencepiece]>=4.18.0->flair) (3.20.3)\n",
            "Collecting botocore<1.32.0,>=1.31.21 (from boto3->flair)\n",
            "  Downloading botocore-1.31.21-py3-none-any.whl (11.1 MB)\n",
            "\u001b[2K     \u001b[90m━━━━━━━━━━━━━━━━━━━━━━━━━━━━━━━━━━━━━━━━\u001b[0m \u001b[32m11.1/11.1 MB\u001b[0m \u001b[31m96.4 MB/s\u001b[0m eta \u001b[36m0:00:00\u001b[0m\n",
            "\u001b[?25hCollecting jmespath<2.0.0,>=0.7.1 (from boto3->flair)\n",
            "  Downloading jmespath-1.0.1-py3-none-any.whl (20 kB)\n",
            "Collecting s3transfer<0.7.0,>=0.6.0 (from boto3->flair)\n",
            "  Downloading s3transfer-0.6.1-py3-none-any.whl (79 kB)\n",
            "\u001b[2K     \u001b[90m━━━━━━━━━━━━━━━━━━━━━━━━━━━━━━━━━━━━━━━━\u001b[0m \u001b[32m79.8/79.8 kB\u001b[0m \u001b[31m10.0 MB/s\u001b[0m eta \u001b[36m0:00:00\u001b[0m\n",
            "\u001b[?25hRequirement already satisfied: wcwidth>=0.2.5 in /usr/local/lib/python3.10/dist-packages (from ftfy->flair) (0.2.6)\n",
            "Requirement already satisfied: urllib3<1.27,>=1.25.4 in /usr/local/lib/python3.10/dist-packages (from botocore<1.32.0,>=1.31.21->boto3->flair) (1.26.16)\n",
            "Requirement already satisfied: pyarrow>=8.0.0 in /usr/local/lib/python3.10/dist-packages (from datasets<3.0.0,>=2.0.0->transformer-smaller-training-vocab>=0.2.1->flair) (9.0.0)\n",
            "Collecting dill<0.3.8,>=0.3.0 (from datasets<3.0.0,>=2.0.0->transformer-smaller-training-vocab>=0.2.1->flair)\n",
            "  Downloading dill-0.3.7-py3-none-any.whl (115 kB)\n",
            "\u001b[2K     \u001b[90m━━━━━━━━━━━━━━━━━━━━━━━━━━━━━━━━━━━━━━\u001b[0m \u001b[32m115.3/115.3 kB\u001b[0m \u001b[31m13.4 MB/s\u001b[0m eta \u001b[36m0:00:00\u001b[0m\n",
            "\u001b[?25hRequirement already satisfied: pandas in /usr/local/lib/python3.10/dist-packages (from datasets<3.0.0,>=2.0.0->transformer-smaller-training-vocab>=0.2.1->flair) (1.5.3)\n",
            "Collecting xxhash (from datasets<3.0.0,>=2.0.0->transformer-smaller-training-vocab>=0.2.1->flair)\n",
            "  Downloading xxhash-3.3.0-cp310-cp310-manylinux_2_17_x86_64.manylinux2014_x86_64.whl (194 kB)\n",
            "\u001b[2K     \u001b[90m━━━━━━━━━━━━━━━━━━━━━━━━━━━━━━━━━━━━━━\u001b[0m \u001b[32m194.1/194.1 kB\u001b[0m \u001b[31m23.8 MB/s\u001b[0m eta \u001b[36m0:00:00\u001b[0m\n",
            "\u001b[?25hCollecting multiprocess (from datasets<3.0.0,>=2.0.0->transformer-smaller-training-vocab>=0.2.1->flair)\n",
            "  Downloading multiprocess-0.70.15-py310-none-any.whl (134 kB)\n",
            "\u001b[2K     \u001b[90m━━━━━━━━━━━━━━━━━━━━━━━━━━━━━━━━━━━━━━\u001b[0m \u001b[32m134.8/134.8 kB\u001b[0m \u001b[31m18.2 MB/s\u001b[0m eta \u001b[36m0:00:00\u001b[0m\n",
            "\u001b[?25hRequirement already satisfied: aiohttp in /usr/local/lib/python3.10/dist-packages (from datasets<3.0.0,>=2.0.0->transformer-smaller-training-vocab>=0.2.1->flair) (3.8.5)\n",
            "Requirement already satisfied: certifi>=2017.4.17 in /usr/local/lib/python3.10/dist-packages (from requests[socks]->gdown==4.4.0->flair) (2023.7.22)\n",
            "Requirement already satisfied: charset-normalizer~=2.0.0 in /usr/local/lib/python3.10/dist-packages (from requests[socks]->gdown==4.4.0->flair) (2.0.12)\n",
            "Requirement already satisfied: idna<4,>=2.5 in /usr/local/lib/python3.10/dist-packages (from requests[socks]->gdown==4.4.0->flair) (3.4)\n",
            "Collecting accelerate>=0.20.3 (from transformers[sentencepiece]>=4.18.0->flair)\n",
            "  Downloading accelerate-0.21.0-py3-none-any.whl (244 kB)\n",
            "\u001b[2K     \u001b[90m━━━━━━━━━━━━━━━━━━━━━━━━━━━━━━━━━━━━━━\u001b[0m \u001b[32m244.2/244.2 kB\u001b[0m \u001b[31m28.8 MB/s\u001b[0m eta \u001b[36m0:00:00\u001b[0m\n",
            "\u001b[?25hRequirement already satisfied: soupsieve>1.2 in /usr/local/lib/python3.10/dist-packages (from beautifulsoup4->gdown==4.4.0->flair) (2.4.1)\n",
            "Requirement already satisfied: MarkupSafe>=2.0 in /usr/local/lib/python3.10/dist-packages (from jinja2->torch!=1.8,>=1.5.0->flair) (2.1.3)\n",
            "Requirement already satisfied: PySocks!=1.5.7,>=1.5.6 in /usr/local/lib/python3.10/dist-packages (from requests[socks]->gdown==4.4.0->flair) (1.7.1)\n",
            "Requirement already satisfied: mpmath>=0.19 in /usr/local/lib/python3.10/dist-packages (from sympy->torch!=1.8,>=1.5.0->flair) (1.3.0)\n",
            "Requirement already satisfied: psutil in /usr/local/lib/python3.10/dist-packages (from accelerate>=0.20.3->transformers[sentencepiece]>=4.18.0->flair) (5.9.5)\n",
            "Requirement already satisfied: attrs>=17.3.0 in /usr/local/lib/python3.10/dist-packages (from aiohttp->datasets<3.0.0,>=2.0.0->transformer-smaller-training-vocab>=0.2.1->flair) (23.1.0)\n",
            "Requirement already satisfied: multidict<7.0,>=4.5 in /usr/local/lib/python3.10/dist-packages (from aiohttp->datasets<3.0.0,>=2.0.0->transformer-smaller-training-vocab>=0.2.1->flair) (6.0.4)\n",
            "Requirement already satisfied: async-timeout<5.0,>=4.0.0a3 in /usr/local/lib/python3.10/dist-packages (from aiohttp->datasets<3.0.0,>=2.0.0->transformer-smaller-training-vocab>=0.2.1->flair) (4.0.2)\n",
            "Requirement already satisfied: yarl<2.0,>=1.0 in /usr/local/lib/python3.10/dist-packages (from aiohttp->datasets<3.0.0,>=2.0.0->transformer-smaller-training-vocab>=0.2.1->flair) (1.9.2)\n",
            "Requirement already satisfied: frozenlist>=1.1.1 in /usr/local/lib/python3.10/dist-packages (from aiohttp->datasets<3.0.0,>=2.0.0->transformer-smaller-training-vocab>=0.2.1->flair) (1.4.0)\n",
            "Requirement already satisfied: aiosignal>=1.1.2 in /usr/local/lib/python3.10/dist-packages (from aiohttp->datasets<3.0.0,>=2.0.0->transformer-smaller-training-vocab>=0.2.1->flair) (1.3.1)\n",
            "Requirement already satisfied: pytz>=2020.1 in /usr/local/lib/python3.10/dist-packages (from pandas->datasets<3.0.0,>=2.0.0->transformer-smaller-training-vocab>=0.2.1->flair) (2022.7.1)\n",
            "Building wheels for collected packages: gdown, mpld3, sqlitedict, langdetect, pptree\n",
            "  Building wheel for gdown (pyproject.toml) ... \u001b[?25l\u001b[?25hdone\n",
            "  Created wheel for gdown: filename=gdown-4.4.0-py3-none-any.whl size=14759 sha256=bf9835bf0ddb5d37e3da61a048b3e467b850fceb7a5779f11775ae438cc8ea23\n",
            "  Stored in directory: /root/.cache/pip/wheels/03/0b/3f/6ddf67a417a5b400b213b0bb772a50276c199a386b12c06bfc\n",
            "  Building wheel for mpld3 (setup.py) ... \u001b[?25l\u001b[?25hdone\n",
            "  Created wheel for mpld3: filename=mpld3-0.3-py3-none-any.whl size=116685 sha256=b28b5c0416b58a57b6340807e344c34a3005dbbe1a9eb5946a7e0248f8b349e2\n",
            "  Stored in directory: /root/.cache/pip/wheels/9c/92/f7/45d9aac5dcfb1c2a1761a272365599cc7ba1050ce211a3fd9a\n",
            "  Building wheel for sqlitedict (setup.py) ... \u001b[?25l\u001b[?25hdone\n",
            "  Created wheel for sqlitedict: filename=sqlitedict-2.1.0-py3-none-any.whl size=16863 sha256=1b856cbbb0ed6cf8efcb9717b3b0abcd1a5ec23f523e8571b995f3dcaa87dc12\n",
            "  Stored in directory: /root/.cache/pip/wheels/79/d6/e7/304e0e6cb2221022c26d8161f7c23cd4f259a9e41e8bbcfabd\n",
            "  Building wheel for langdetect (setup.py) ... \u001b[?25l\u001b[?25hdone\n",
            "  Created wheel for langdetect: filename=langdetect-1.0.9-py3-none-any.whl size=993223 sha256=fbdec827906f206f42f0b0f9e99081f25f7d48ef23102867b540d386f9dbfc19\n",
            "  Stored in directory: /root/.cache/pip/wheels/95/03/7d/59ea870c70ce4e5a370638b5462a7711ab78fba2f655d05106\n",
            "  Building wheel for pptree (setup.py) ... \u001b[?25l\u001b[?25hdone\n",
            "  Created wheel for pptree: filename=pptree-3.1-py3-none-any.whl size=4608 sha256=5e3083dfc01dfaae915d810bd11c16eae1ad1e91d8814ac5bc0482450a317db6\n",
            "  Stored in directory: /root/.cache/pip/wheels/9f/b6/0e/6f26eb9e6eb53ff2107a7888d72b5a6a597593956113037828\n",
            "Successfully built gdown mpld3 sqlitedict langdetect pptree\n",
            "Installing collected packages: tokenizers, sqlitedict, sentencepiece, safetensors, pptree, mpld3, janome, xxhash, segtok, langdetect, jmespath, ftfy, dill, deprecated, conllu, wikipedia-api, multiprocess, huggingface-hub, botocore, transformers, s3transfer, gdown, bpemb, datasets, boto3, accelerate, transformer-smaller-training-vocab, pytorch-revgrad, flair\n",
            "  Attempting uninstall: gdown\n",
            "    Found existing installation: gdown 4.6.6\n",
            "    Uninstalling gdown-4.6.6:\n",
            "      Successfully uninstalled gdown-4.6.6\n",
            "Successfully installed accelerate-0.21.0 boto3-1.28.21 botocore-1.31.21 bpemb-0.3.4 conllu-4.5.3 datasets-2.14.3 deprecated-1.2.14 dill-0.3.7 flair-0.12.2 ftfy-6.1.1 gdown-4.4.0 huggingface-hub-0.16.4 janome-0.5.0 jmespath-1.0.1 langdetect-1.0.9 mpld3-0.3 multiprocess-0.70.15 pptree-3.1 pytorch-revgrad-0.2.0 s3transfer-0.6.1 safetensors-0.3.2 segtok-1.5.11 sentencepiece-0.1.99 sqlitedict-2.1.0 tokenizers-0.13.3 transformer-smaller-training-vocab-0.2.4 transformers-4.31.0 wikipedia-api-0.6.0 xxhash-3.3.0\n",
            "Collecting wget\n",
            "  Downloading wget-3.2.zip (10 kB)\n",
            "  Preparing metadata (setup.py) ... \u001b[?25l\u001b[?25hdone\n",
            "Building wheels for collected packages: wget\n",
            "  Building wheel for wget (setup.py) ... \u001b[?25l\u001b[?25hdone\n",
            "  Created wheel for wget: filename=wget-3.2-py3-none-any.whl size=9656 sha256=70bb931c8f17fea94c1e5664d30eb3c8b72a9eb8c1557069b25166f58cb64e64\n",
            "  Stored in directory: /root/.cache/pip/wheels/8b/f1/7f/5c94f0a7a505ca1c81cd1d9208ae2064675d97582078e6c769\n",
            "Successfully built wget\n",
            "Installing collected packages: wget\n",
            "Successfully installed wget-3.2\n"
          ]
        }
      ]
    },
    {
      "cell_type": "code",
      "source": [
        "%%time\n",
        "#import libraries\n",
        "from flair.data import Sentence\n",
        "from flair.models import SequenceTagger\n",
        "import wget"
      ],
      "metadata": {
        "id": "3yk2Ll8B-91N",
        "colab": {
          "base_uri": "https://localhost:8080/"
        },
        "outputId": "22aa3ec4-116b-426e-8760-33ce38f2746e"
      },
      "execution_count": 2,
      "outputs": [
        {
          "output_type": "stream",
          "name": "stdout",
          "text": [
            "CPU times: user 7.99 s, sys: 1.61 s, total: 9.61 s\n",
            "Wall time: 14.7 s\n"
          ]
        }
      ]
    },
    {
      "cell_type": "code",
      "source": [
        "%%time\n",
        "# load the trained model\n",
        "model = SequenceTagger.load(wget.download('https://zenodo.org/record/5776202/files/final-model.pt?download=1'))"
      ],
      "metadata": {
        "id": "B177b5nX_kRi",
        "colab": {
          "base_uri": "https://localhost:8080/"
        },
        "outputId": "94b966a7-d6e7-4437-cfff-c6aaf1187934"
      },
      "execution_count": 3,
      "outputs": [
        {
          "output_type": "stream",
          "name": "stdout",
          "text": [
            "2023-08-08 11:44:01,364 SequenceTagger predicts: Dictionary with 15 tags: O, B-FUND, I-FUND, B-GRNB, I-GRNB, B-MISC, I-MISC, B-UNI, I-UNI, B-IND, I-IND, B-COR, I-COR, <START>, <STOP>\n",
            "CPU times: user 4.67 s, sys: 3.55 s, total: 8.22 s\n",
            "Wall time: 2min 13s\n"
          ]
        }
      ]
    },
    {
      "cell_type": "code",
      "source": [
        "model = SequenceTagger.load(\"kalawinka/flair-ner-acknowledgments\")"
      ],
      "metadata": {
        "colab": {
          "base_uri": "https://localhost:8080/",
          "height": 86,
          "referenced_widgets": [
            "5f3051266ce941669aa2eff968f7a69c",
            "a4f9ea1cd9f44f1e80712a937b9af4c9",
            "0d141e8a3c764761bd9ee065a73f4756",
            "2d10b8a4e821423a82bcfa3d656c6e3f",
            "3245198a2ac0453d8e06799d8aaecccb",
            "c60e223c4fde46e1ae538095e3c3c33f",
            "46d8e9905d6240908a4550eb466520a8",
            "82cb860535874f56bed3efd7a69af184",
            "c50ce4b514c14f72bdab0cf87de1b21d",
            "12d1454b79b7457aa0ac738ac00f7e3a",
            "841948e17dd541c691a53fc2031e2d44"
          ]
        },
        "id": "-_EU82ceONfJ",
        "outputId": "8bbf05be-1d07-469f-8735-d7ccb64d01c4"
      },
      "execution_count": 8,
      "outputs": [
        {
          "output_type": "display_data",
          "data": {
            "text/plain": [
              "Downloading pytorch_model.bin:   0%|          | 0.00/419M [00:00<?, ?B/s]"
            ],
            "application/vnd.jupyter.widget-view+json": {
              "version_major": 2,
              "version_minor": 0,
              "model_id": "5f3051266ce941669aa2eff968f7a69c"
            }
          },
          "metadata": {}
        },
        {
          "output_type": "stream",
          "name": "stdout",
          "text": [
            "2023-08-08 12:57:21,357 SequenceTagger predicts: Dictionary with 27 tags: O, S-IND, B-IND, E-IND, I-IND, S-FUND, B-FUND, E-FUND, I-FUND, S-GRNB, B-GRNB, E-GRNB, I-GRNB, S-UNI, B-UNI, E-UNI, I-UNI, S-MISC, B-MISC, E-MISC, I-MISC, S-COR, B-COR, E-COR, I-COR, <START>, <STOP>\n"
          ]
        }
      ]
    },
    {
      "cell_type": "markdown",
      "source": [
        "# **Try the model with our example**"
      ],
      "metadata": {
        "id": "kkZrB7L5H1G9"
      }
    },
    {
      "cell_type": "code",
      "source": [
        "# create example sentence\n",
        "sentence = Sentence(\"This work was supported by State Key Lab of Ocean Engineering Shanghai Jiao Tong University and financially supported by China National Scientific and Technology Major Project (Grant No. 2016ZX05028-006-009)\")"
      ],
      "metadata": {
        "id": "PG97ks_ME6ya"
      },
      "execution_count": 9,
      "outputs": []
    },
    {
      "cell_type": "code",
      "source": [
        "%%time\n",
        "# predict the tags\n",
        "model.predict(sentence)\n",
        "#print output as a tagged string\n",
        "print(sentence.to_tagged_string())"
      ],
      "metadata": {
        "id": "dKozQytSE-WU",
        "colab": {
          "base_uri": "https://localhost:8080/"
        },
        "outputId": "e1adc2cb-1fdb-4e51-9a71-f3110ed4e171"
      },
      "execution_count": 10,
      "outputs": [
        {
          "output_type": "stream",
          "name": "stdout",
          "text": [
            "Sentence[31]: \"This work was supported by State Key Lab of Ocean Engineering Shanghai Jiao Tong University and financially supported by China National Scientific and Technology Major Project (Grant No. 2016ZX05028-006-009)\" → [\"State Key Lab of Ocean Engineering Shanghai Jiao Tong University\"/UNI, \"China National Scientific and Technology Major Project\"/FUND, \"2016ZX05028-006-009\"/GRNB]\n",
            "CPU times: user 3.26 s, sys: 60.4 ms, total: 3.32 s\n",
            "Wall time: 3.36 s\n"
          ]
        }
      ]
    },
    {
      "cell_type": "code",
      "source": [
        "%%time\n",
        "# predict the tags\n",
        "model.predict(sentence)\n",
        "#print output as spans\n",
        "for entity in sentence.get_spans('ner'):\n",
        "    print(entity)"
      ],
      "metadata": {
        "id": "2ZRSrcjuFMHO",
        "colab": {
          "base_uri": "https://localhost:8080/"
        },
        "outputId": "9f56334c-8e5f-40d4-fbf0-67845086859e"
      },
      "execution_count": 11,
      "outputs": [
        {
          "output_type": "stream",
          "name": "stdout",
          "text": [
            "Span[5:15]: \"State Key Lab of Ocean Engineering Shanghai Jiao Tong University\" → UNI (0.9396)\n",
            "Span[19:26]: \"China National Scientific and Technology Major Project\" → FUND (0.9865)\n",
            "Span[29:30]: \"2016ZX05028-006-009\" → GRNB (0.9996)\n",
            "CPU times: user 2.97 s, sys: 76.1 ms, total: 3.05 s\n",
            "Wall time: 3.04 s\n"
          ]
        }
      ]
    },
    {
      "cell_type": "markdown",
      "source": [
        "# **Gold standard**\n",
        "State Key Lab of Ocean Engineering Shanghai Jiao Tong University &ensp; **UNI** <br>\n",
        "China National Scientific and Technology Major Project &ensp;**FUND** <br>\n",
        "2016ZX05028-006-009 &ensp; **GRNB**"
      ],
      "metadata": {
        "id": "XErLonAjIBm0"
      }
    },
    {
      "cell_type": "markdown",
      "source": [
        "# **You can also use your own examples**\n",
        "just type you acknowledgement in the Sentence( ) object."
      ],
      "metadata": {
        "id": "LtiQz09uIPNP"
      }
    },
    {
      "cell_type": "code",
      "source": [
        "# create example sentence\n",
        "sentence = Sentence(\"The original work was funded by the German Center for Higher Education Research and Science Studies (DZHW) via the project Mining Acknowledgement Texts in Web of Science (MinAck)\"\n",
        "\n"
      ],
      "metadata": {
        "id": "oXF68J43IhmA",
        "outputId": "1d2caa55-3632-4db9-9017-b505e934c86f",
        "colab": {
          "base_uri": "https://localhost:8080/",
          "height": 141
        }
      },
      "execution_count": null,
      "outputs": [
        {
          "output_type": "error",
          "ename": "SyntaxError",
          "evalue": "ignored",
          "traceback": [
            "\u001b[0;36m  File \u001b[0;32m\"<ipython-input-7-a5280ec78322>\"\u001b[0;36m, line \u001b[0;32m3\u001b[0m\n\u001b[0;31m    \u001b[0m\n\u001b[0m    ^\u001b[0m\n\u001b[0;31mSyntaxError\u001b[0m\u001b[0;31m:\u001b[0m incomplete input\n"
          ]
        }
      ]
    },
    {
      "cell_type": "code",
      "source": [
        "%%time\n",
        "# predict the tags\n",
        "model.predict(sentence)\n",
        "#print output as a tagged string\n",
        "print(sentence.to_tagged_string())"
      ],
      "metadata": {
        "id": "dDkIXCQkIkzS"
      },
      "execution_count": null,
      "outputs": []
    },
    {
      "cell_type": "code",
      "source": [
        "%%time\n",
        "# predict the tags\n",
        "model.predict(sentence)\n",
        "#print output as spans\n",
        "for entity in sentence.get_spans('ner'):\n",
        "    print(entity)"
      ],
      "metadata": {
        "id": "mDkitIYxIn6m",
        "colab": {
          "base_uri": "https://localhost:8080/"
        },
        "outputId": "79d09c76-9fa5-4a54-e870-ad2365f22453"
      },
      "execution_count": null,
      "outputs": [
        {
          "output_type": "stream",
          "name": "stdout",
          "text": [
            "Span[8:19]: \"National Science Foundation , Science of Science and Innovation Policy Program\" → FUND (0.9116)\n",
            "Span[20:22]: \"NSF 09-3281\" → GRNB (0.9783)\n",
            "Span[25:31]: \"Ewing Marion Kauffman Foundation Dissertation Fellowship\" → FUND (0.9843)\n",
            "Span[34:48]: \"University of North Carolina ( UNC ) Chapel Hill Graduate School Dissertation Completion Fellowship\" → UNI (0.9299)\n",
            "Span[51:53]: \"David Hsu\" → IND (0.9994)\n",
            "Span[54:56]: \"Rosemarie Ziedonis\" → IND (0.9998)\n",
            "Span[57:59]: \"John Hardin\" → IND (0.9997)\n",
            "Span[60:62]: \"Virginia Gray\" → IND (0.9979)\n",
            "Span[63:66]: \"Jeremy G. Moulton\" → IND (0.9996)\n",
            "Span[67:69]: \"Christine Durrance\" → IND (0.9993)\n",
            "Span[70:74]: \"Jade V.M . Jenkins\" → IND (0.9924)\n",
            "Span[75:77]: \"Alexandra Graddy-Reed\" → IND (0.9986)\n",
            "Span[79:81]: \"Jesse Hinde\" → IND (0.9995)\n",
            "Span[101:105]: \"2014 Academy of Management\" → MISC (0.6552)\n",
            "Span[106:111]: \"2014 Technology Transfer Society Meeting\" → MISC (0.802)\n",
            "Span[112:117]: \"2014 Ewing Marion Kauffman Foundation\" → MISC (0.8307)\n",
            "Span[118:121]: \"Emerging Scholars conference\" → MISC (0.8707)\n",
            "Span[122:128]: \"UNC Chapel Hill Public Policy seminar\" → MISC (0.7551)\n",
            "Span[129:137]: \"Office of Advocacy at the Small Business Administration\" → MISC (0.5639)\n",
            "Span[138:142]: \"Center for Economic Studies\" → UNI (0.7658)\n",
            "Span[144:147]: \"U.S Census Bureau\" → UNI (0.5933)\n",
            "Span[148:154]: \"School of Global Policy & Strategy\" → UNI (0.9454)\n",
            "Span[156:161]: \"University of California San Diego\" → UNI (0.9501)\n",
            "Span[162:165]: \"Department of Management\" → UNI (0.7631)\n",
            "Span[167:170]: \"University of Oregon\" → UNI (0.8991)\n",
            "Span[171:177]: \"Department of Geography and Earth Sciences\" → UNI (0.8241)\n",
            "Span[179:185]: \"University of North Carolina at Charlotte\" → UNI (0.8101)\n",
            "Span[191:197]: \"Directorate for Social & Behavioral Sciences\" → FUND (0.4918)\n",
            "Span[199:202]: \"National Science Foundation\" → FUND (0.9399)\n",
            "Span[203:211]: \"2015 Atlanta Conference on Science and Innovation Policy\" → MISC (0.9584)\n",
            "Span[214:224]: \"2015 West Coast Research Symposium at the University of Washington\" → MISC (0.7984)\n",
            "Span[230:232]: \"John Hardin\" → IND (0.9995)\n",
            "Span[233:235]: \"Kenneth Roland\" → IND (0.9994)\n",
            "CPU times: user 19.8 s, sys: 20.4 ms, total: 19.8 s\n",
            "Wall time: 20.1 s\n"
          ]
        }
      ]
    },
    {
      "cell_type": "markdown",
      "source": [
        "# **Here you can find some more acknowledgement texts!**\n",
        "## ***Text 1:***\n",
        "This work was supported partly by the National Natural Science Foundation of China (51579026 and 51079013), partly by the Program for Liaoning Excellent Talents in University (LR2015007), and partly by the Technology Foundation for Selected Overseas Chinese Scholar, the Ministry of Human Resources and Social Security of the People's Republic of China, and partly by the Fundamental Research Funds for the Central Universities (3132014332).\n",
        "\n",
        "## **Gold standard**\n",
        "National Natural Science Foundation of China &ensp; **FUND** <br>\n",
        "51579026  &ensp; **GRNB** <br>\n",
        "51079013 &ensp; **GRNB** <br>\n",
        "Program for Liaoning Excellent Talents in University &ensp; **FUND** <br>\n",
        "LR2015007 &ensp; **GRNB** <br>\n",
        "Technology Foundation for Selected Overseas Chinese Scholar &ensp; **GRNB** <br>\n",
        "Ministry of Human Resources and Social Security of the People's Republic of China &ensp; **FUND** <br>\n",
        "Fundamental Research Funds for the Central Universities &ensp; **FUND**\n",
        "\n",
        "## ***Text 2:***\n",
        "Special thanks to Andy McLennan, with whom we are working on a follow-up article addressing algorithmic aspects of our approach.\n",
        "\n",
        "## **Gold standard**\n",
        "Andy McLennan &ensp; **IND**\n",
        "\n",
        "## ***Text 3:***\n",
        "This research was funded in part by the National Science Foundation, Science of Science and Innovation Policy Program (NSF 09-3281), the Ewing Marion Kauffman Foundation Dissertation Fellowship, and the University of North Carolina (UNC) Chapel Hill Graduate School Dissertation Completion Fellowship. We thank David Hsu, Rosemarie Ziedonis, John Hardin, Virginia Gray, Jeremy G. Moulton, Christine Durrance, Jade V.M. Jenkins, Alexandra Graddy-Reed, and Jesse Hinde for their comments on earlier versions of this paper. This paper benefited from discussions with seminar participants at the 2014 Academy of Management, 2014 Technology Transfer Society Meeting, 2014 Ewing Marion Kauffman Foundation's Emerging Scholars conference, UNC Chapel Hill Public Policy seminar, Office of Advocacy at the Small Business Administration, Center for Economic Studies at the U.S Census Bureau, School of Global Policy & Strategy at the University of California San Diego, Department of Management at the University of Oregon, Department of Geography and Earth Sciences at the University of North Carolina at Charlotte, Directorate for Engineering and the Directorate for Social & Behavioral Sciences at the National Science Foundation, 2015 Atlanta Conference on Science and Innovation Policy, and the 2015 West Coast Research Symposium at the University of Washington. In addition, we thank John Hardin and Kenneth Roland for providing project-level SBIR State Match data for North Carolina and Kentucky, respectively.\n",
        "\n",
        "## **Gold standard**\n",
        "National Science Foundation &ensp; **FUND**  <br>\n",
        "Science of Science and Innovation Policy Program &ensp; **FUND**  <br>\n",
        "NSF 09-3281 &ensp; **GRNB**  <br>\n",
        "Ewing Marion Kauffman Foundation Dissertation Fellowship &ensp; **FUND** <br>\n",
        "University of North Carolina (UNC) Chapel Hill Graduate School Dissertation Completion Fellowship &ensp; **UNI** <br>\n",
        "David Hsu &ensp; **IND**  <br>\n",
        "Rosemarie Ziedonis &ensp; **IND** <br>\n",
        "John Hardin &ensp; **IND** <br>\n",
        "Virginia Gray &ensp; **IND** <br>\n",
        "Jeremy G. Moulton &ensp; **IND** <br>\n",
        "Christine Durrance &ensp; **IND** <br>\n",
        "Jade V.M. Jenkins &ensp; **IND** <br>\n",
        "Alexandra Graddy-Reed &ensp; **IND** <br>\n",
        "Jesse Hinde &ensp; **IND** <br>\n",
        "2014 Academy of Management &ensp; **MISC** <br>\n",
        "2014 Technology Transfer Society Meeting &ensp; **MISC** <br>\n",
        "2014 Ewing Marion Kauffman Foundation's Emerging Scholars conference &ensp; **MISC** <br>\n",
        "UNC Chapel Hill Public Policy seminar &ensp; **MISC** <br>\n",
        "Office of Advocacy at the Small Business Administration, Center for Economic Studies at the U.S Census Bureau &ensp; **MISC** <br>\n",
        "School of Global Policy & Strategy at the University of California San Diego &ensp; **MISC** <br>\n",
        "Department of Management at the University of Oregon &ensp; **MISC** <br>\n",
        "Department of Geography and Earth Sciences at the University of North Carolina at Charlotte &ensp; **MISC** <br>\n",
        "Directorate for Engineering and the Directorate for Social & Behavioral Sciences at the National Science Foundation &ensp; **MISC** <br>\n",
        "2015 Atlanta Conference on Science and Innovation Policy &ensp; **MISC** <br>\n",
        "2015 West Coast Research Symposium at the University of Washington &ensp; **MISC** <br>\n",
        "John Hardin &ensp; **IND** <br>\n",
        "Kenneth Roland &ensp; **IND**\n"
      ],
      "metadata": {
        "id": "6zOeI5vpIogl"
      }
    }
  ]
}